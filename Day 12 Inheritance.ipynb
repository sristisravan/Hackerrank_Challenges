{
 "cells": [
  {
   "cell_type": "code",
   "execution_count": 14,
   "metadata": {},
   "outputs": [
    {
     "name": "stdout",
     "output_type": "stream",
     "text": [
      "Heraldo Memelli 8135627\n",
      "2\n",
      "100 80\n",
      "Name: Memelli, Heraldo\n",
      "ID: 8135627\n",
      "Grade: O\n"
     ]
    }
   ],
   "source": [
    "class Person:\n",
    "\tdef __init__(self, firstName, lastName, idNumber):\n",
    "\t\tself.firstName = firstName\n",
    "\t\tself.lastName = lastName\n",
    "\t\tself.idNumber = idNumber\n",
    "\tdef printPerson(self):\n",
    "\t\tprint(\"Name:\", self.lastName + \",\", self.firstName)\n",
    "\t\tprint(\"ID:\", self.idNumber)\n",
    "        \n",
    "        \n",
    "class Student(Person):\n",
    "    #   Class Constructor\n",
    "    #   \n",
    "    #   Parameters:\n",
    "    #   firstName - A string denoting the Person's first name.\n",
    "    #   lastName - A string denoting the Person's last name.\n",
    "    #   id - An integer denoting the Person's ID number.\n",
    "    #   scores - An array of integers denoting the Person's test scores.\n",
    "    #\n",
    "    # Write your constructor here\n",
    "    def __init__(self, firstName, lastName, idNum, scores):\n",
    "        Person.__init__(self, firstName, lastName, idNum)\n",
    "        self.scores = scores\n",
    "\n",
    "    #   Function Name: calculate\n",
    "    #   Return: A character denoting the grade.\n",
    "    #\n",
    "    # Write your function here\n",
    "    def calculate(self):\n",
    "        avg = sum(self.scores)/len(self.scores)\n",
    "        if avg >= 90 : return 'O'\n",
    "        elif avg >= 80: return 'E'\n",
    "        elif avg >= 70: return 'A'\n",
    "        elif avg >= 55: return 'P'\n",
    "        elif avg >= 40: return 'D'\n",
    "        else : return 'T'\n",
    "\n",
    "line = input().split()\n",
    "firstName = line[0]\n",
    "lastName = line[1]\n",
    "idNum = line[2]\n",
    "numScores = int(input()) # not needed for Python\n",
    "scores = list( map(int, input().split()) )\n",
    "s = Student(firstName, lastName, idNum, scores)\n",
    "s.printPerson()\n",
    "print(\"Grade:\", s.calculate())"
   ]
  },
  {
   "cell_type": "code",
   "execution_count": null,
   "metadata": {
    "collapsed": true
   },
   "outputs": [],
   "source": []
  }
 ],
 "metadata": {
  "kernelspec": {
   "display_name": "Python 3",
   "language": "python",
   "name": "python3"
  },
  "language_info": {
   "codemirror_mode": {
    "name": "ipython",
    "version": 3
   },
   "file_extension": ".py",
   "mimetype": "text/x-python",
   "name": "python",
   "nbconvert_exporter": "python",
   "pygments_lexer": "ipython3",
   "version": "3.6.1"
  }
 },
 "nbformat": 4,
 "nbformat_minor": 2
}
