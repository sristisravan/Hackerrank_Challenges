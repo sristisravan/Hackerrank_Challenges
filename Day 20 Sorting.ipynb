{
 "cells": [
  {
   "cell_type": "code",
   "execution_count": null,
   "metadata": {
    "collapsed": true
   },
   "outputs": [],
   "source": [
    "#!/bin/python3\n",
    "\n",
    "import sys\n",
    "\n",
    "n = int(input().strip())\n",
    "a = list(map(int, input().strip().split(' ')))\n",
    "# Write Your Code Here\n",
    "\n",
    "def swap(p,q):\n",
    "    return q,p\n",
    "\n",
    "temp = 0\n",
    "for i in range(0,n):\n",
    "    numberOfSwaps = 0;\n",
    "    \n",
    "    for j in range(0,n-1):\n",
    "        if a[j] > a[j+1]:\n",
    "            a[j], a[j+1] = swap(a[j], a[j+1]);\n",
    "            numberOfSwaps= numberOfSwaps+1;\n",
    " \n",
    "    if numberOfSwaps == 0:\n",
    "        break\n",
    "    else:\n",
    "        temp = temp + numberOfSwaps\n",
    "        \n",
    "print(\"Array is sorted in %d swaps.\" %(temp))\n",
    "print(\"First Element:\", a[0])\n",
    "print(\"Last Element:\", a[n-1])"
   ]
  }
 ],
 "metadata": {
  "kernelspec": {
   "display_name": "Python 3",
   "language": "python",
   "name": "python3"
  },
  "language_info": {
   "codemirror_mode": {
    "name": "ipython",
    "version": 3
   },
   "file_extension": ".py",
   "mimetype": "text/x-python",
   "name": "python",
   "nbconvert_exporter": "python",
   "pygments_lexer": "ipython3",
   "version": "3.6.1"
  }
 },
 "nbformat": 4,
 "nbformat_minor": 2
}
