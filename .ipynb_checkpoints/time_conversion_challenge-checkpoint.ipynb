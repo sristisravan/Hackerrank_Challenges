{
 "cells": [
  {
   "cell_type": "code",
   "execution_count": 14,
   "metadata": {},
   "outputs": [
    {
     "name": "stdout",
     "output_type": "stream",
     "text": [
      "07:05:45PM\n",
      "19:05:45\n"
     ]
    }
   ],
   "source": [
    "\n",
    "import sys\n",
    "\n",
    "def timeConversion(s):\n",
    "    # Complete this function\n",
    "    arr = s.strip().split(':')\n",
    "    if 'P' in arr[2] and arr[0] != '12': \n",
    "        arr[0] = str(int(arr[0])+12)\n",
    "    elif 'A' in arr[2] and arr[0]== '12': \n",
    "        arr[0] = '00'\n",
    "    arr[2] = ''.join(filter(lambda x: x.isdigit(),arr[2]))\n",
    "    return ':'.join(list(arr))\n",
    "\n",
    "s = input().strip()\n",
    "result = timeConversion(s)\n",
    "print(result)\n"
   ]
  },
  {
   "cell_type": "code",
   "execution_count": null,
   "metadata": {
    "collapsed": true
   },
   "outputs": [],
   "source": []
  },
  {
   "cell_type": "code",
   "execution_count": null,
   "metadata": {
    "collapsed": true
   },
   "outputs": [],
   "source": []
  },
  {
   "cell_type": "code",
   "execution_count": null,
   "metadata": {
    "collapsed": true
   },
   "outputs": [],
   "source": []
  }
 ],
 "metadata": {
  "kernelspec": {
   "display_name": "Python 3",
   "language": "python",
   "name": "python3"
  },
  "language_info": {
   "codemirror_mode": {
    "name": "ipython",
    "version": 3
   },
   "file_extension": ".py",
   "mimetype": "text/x-python",
   "name": "python",
   "nbconvert_exporter": "python",
   "pygments_lexer": "ipython3",
   "version": "3.6.1"
  }
 },
 "nbformat": 4,
 "nbformat_minor": 2
}
