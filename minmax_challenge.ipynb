{
 "cells": [
  {
   "cell_type": "code",
   "execution_count": 43,
   "metadata": {
    "scrolled": true
   },
   "outputs": [
    {
     "name": "stdout",
     "output_type": "stream",
     "text": [
      "1 2 3 4 5\n",
      "15\n",
      "10 14\n"
     ]
    }
   ],
   "source": [
    "import sys\n",
    "\n",
    "arr = list(map(int, input().strip().split(' ')))\n",
    "\n",
    "total = sum(arr)\n",
    "total_sum = []\n",
    "for item in arr:\n",
    "    total_sum.append(total - item)\n",
    "\n",
    "print(min(total_sum), max(total_sum))\n"
   ]
  }
 ],
 "metadata": {
  "kernelspec": {
   "display_name": "Python 3",
   "language": "python",
   "name": "python3"
  },
  "language_info": {
   "codemirror_mode": {
    "name": "ipython",
    "version": 3
   },
   "file_extension": ".py",
   "mimetype": "text/x-python",
   "name": "python",
   "nbconvert_exporter": "python",
   "pygments_lexer": "ipython3",
   "version": "3.6.1"
  }
 },
 "nbformat": 4,
 "nbformat_minor": 2
}
