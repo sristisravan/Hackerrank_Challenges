{
 "cells": [
  {
   "cell_type": "code",
   "execution_count": 1,
   "metadata": {
    "collapsed": true
   },
   "outputs": [],
   "source": [
    "class Person:\n",
    "    def __init__(self,initialAge):\n",
    "        self.initialAge = initialAge\n",
    "        # Add some more code to run some checks on initialAge\n",
    "        if(self.initialAge < 0):\n",
    "            self.initialAge = 0\n",
    "            print(\"Age is not valid, setting age to 0.\")\n",
    "            \n",
    "    def amIOld(self):\n",
    "        # Do some computations in here and print out the correct statement to the console\n",
    "        if(self.initialAge < 18 and self.initialAge >=13 ):\n",
    "            print(\"You are a teenager.\")\n",
    "        elif(self.initialAge < 13):\n",
    "            print(\"You are young.\")\n",
    "        else:\n",
    "            print(\"You are old.\")\n",
    "            \n",
    "    def yearPasses(self):\n",
    "        # Increment the age of the person in here\n",
    "         self.initialAge += 1"
   ]
  },
  {
   "cell_type": "code",
   "execution_count": null,
   "metadata": {
    "collapsed": true
   },
   "outputs": [],
   "source": [
    "t = int(input())\n",
    "for i in range(0, t):\n",
    "    age = int(input())         \n",
    "    p = Person(age)  \n",
    "    p.amIOld()\n",
    "    for j in range(0, 3):\n",
    "        p.yearPasses()       \n",
    "    p.amIOld()\n",
    "    print(\"\")"
   ]
  }
 ],
 "metadata": {
  "kernelspec": {
   "display_name": "Python 3",
   "language": "python",
   "name": "python3"
  },
  "language_info": {
   "codemirror_mode": {
    "name": "ipython",
    "version": 3
   },
   "file_extension": ".py",
   "mimetype": "text/x-python",
   "name": "python",
   "nbconvert_exporter": "python",
   "pygments_lexer": "ipython3",
   "version": "3.6.1"
  }
 },
 "nbformat": 4,
 "nbformat_minor": 2
}
