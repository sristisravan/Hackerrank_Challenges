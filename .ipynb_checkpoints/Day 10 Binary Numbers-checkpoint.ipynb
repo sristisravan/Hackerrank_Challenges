{
 "cells": [
  {
   "cell_type": "code",
   "execution_count": 21,
   "metadata": {},
   "outputs": [
    {
     "name": "stdout",
     "output_type": "stream",
     "text": [
      "65535\n",
      "16\n"
     ]
    }
   ],
   "source": [
    "#!/bin/python3\n",
    "\n",
    "import sys\n",
    "\n",
    "n = int(input().strip())\n",
    "count = 0\n",
    "temp = 0\n",
    "for item in list(bin(n)[2:]):\n",
    "    if item == '1':\n",
    "        count += 1\n",
    "    else:\n",
    "        if count > temp: \n",
    "            temp = count\n",
    "        count = 0\n",
    "\n",
    "sys.stdout.write(str(max(temp,count)))"
   ]
  }
 ],
 "metadata": {
  "kernelspec": {
   "display_name": "Python 3",
   "language": "python",
   "name": "python3"
  },
  "language_info": {
   "codemirror_mode": {
    "name": "ipython",
    "version": 3
   },
   "file_extension": ".py",
   "mimetype": "text/x-python",
   "name": "python",
   "nbconvert_exporter": "python",
   "pygments_lexer": "ipython3",
   "version": "3.6.1"
  }
 },
 "nbformat": 4,
 "nbformat_minor": 2
}
