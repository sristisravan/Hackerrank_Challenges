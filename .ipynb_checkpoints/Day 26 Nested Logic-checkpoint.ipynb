{
 "cells": [
  {
   "cell_type": "code",
   "execution_count": 12,
   "metadata": {},
   "outputs": [
    {
     "name": "stdout",
     "output_type": "stream",
     "text": [
      "1 1 2010 \n",
      "31 12 2009\n",
      "10000\n"
     ]
    }
   ],
   "source": [
    "import sys\n",
    "fine = 0\n",
    "return_date = input().strip().split(\" \")\n",
    "due_date = input().strip().split(\" \")\n",
    "\n",
    "if(int(return_date[2]) > int(due_date[2])):\n",
    "    fine = fine + 10000\n",
    "    \n",
    "\n",
    "if fine > 10000:\n",
    "    fine = fine\n",
    "elif(int(return_date[2]) == int(due_date[2])):\n",
    "    if(int(return_date[1]) > int(due_date[1])):\n",
    "        fine = fine +500*(int(return_date[1])-int(due_date[1]))\n",
    "    else:\n",
    "        fine = fine +15*(int(return_date[0])-int(due_date[0]))\n",
    "        \n",
    "if fine <= 0: fine = 0\n",
    "print(fine)"
   ]
  },
  {
   "cell_type": "code",
   "execution_count": null,
   "metadata": {
    "collapsed": true
   },
   "outputs": [],
   "source": []
  }
 ],
 "metadata": {
  "kernelspec": {
   "display_name": "Python 3",
   "language": "python",
   "name": "python3"
  },
  "language_info": {
   "codemirror_mode": {
    "name": "ipython",
    "version": 3
   },
   "file_extension": ".py",
   "mimetype": "text/x-python",
   "name": "python",
   "nbconvert_exporter": "python",
   "pygments_lexer": "ipython3",
   "version": "3.6.1"
  }
 },
 "nbformat": 4,
 "nbformat_minor": 2
}
