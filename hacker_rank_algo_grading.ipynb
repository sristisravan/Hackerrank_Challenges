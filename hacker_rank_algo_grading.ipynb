{
 "cells": [
  {
   "cell_type": "markdown",
   "metadata": {},
   "source": [
    "Problem:\n",
    "HackerLand University has the following grading policy:\n",
    "\n",
    "Every student receives a  in the inclusive range from  to .\n",
    "Any  less than  is a failing grade.\n",
    "Sam is a professor at the university and likes to round each student's  according to these rules:\n",
    "\n",
    "If the difference between the  and the next multiple of  is less than , round  up to the next multiple of .\n",
    "If the value of  is less than , no rounding occurs as the result will still be a failing grade.\n",
    "For example,  will be rounded to  but  will not be rounded because the rounding would result in a number that is less than .\n",
    "\n",
    "Given the initial value of  for each of Sam's  students, write code to automate the rounding process. For each , round it according to the rules above and print the result on a new line.\n",
    "\n",
    "Input Format\n",
    "\n",
    "The first line contains a single integer denoting  (the number of students). \n",
    "Each line  of the  subsequent lines contains a single integer, , denoting student 's grade.\n",
    "\n",
    "Constraints\n",
    "\n",
    "Output Format\n",
    "\n",
    "For each  of the  grades, print the rounded grade on a new line."
   ]
  },
  {
   "cell_type": "code",
   "execution_count": 6,
   "metadata": {
    "collapsed": false
   },
   "outputs": [
    {
     "name": "stdout",
     "output_type": "stream",
     "text": [
      "4\n",
      "73\n",
      "67\n",
      "38\n",
      "33\n",
      "['75\\n', '67\\n', '40\\n', '33\\n']\n"
     ]
    }
   ],
   "source": [
    "#!/bin/python3\n",
    "import sys\n",
    "\n",
    "def solve(grades):\n",
    "    mod = []\n",
    "    for g_i in range(0,len(grades)):\n",
    "        if(grades[g_i] >= 38):\n",
    "            if(grades[g_i]%5 > 2):\n",
    "                mod.append(grades[g_i]+grades[g_i]%5-1) \n",
    "            else:\n",
    "                mod.append(grades[g_i]) \n",
    "        else:\n",
    "            mod.append(grades[g_i])\n",
    "    return mod\n",
    "\n",
    "n = int(input().strip())\n",
    "grades = []\n",
    "grades_i = 0\n",
    "for grades_i in range(n):\n",
    "   grades_t = int(input().strip())\n",
    "   grades.append(grades_t)\n",
    "result = solve(grades)\n",
    "print(result)"
   ]
  }
 ],
 "metadata": {
  "anaconda-cloud": {},
  "kernelspec": {
   "display_name": "Python [conda root]",
   "language": "python",
   "name": "conda-root-py"
  },
  "language_info": {
   "codemirror_mode": {
    "name": "ipython",
    "version": 3
   },
   "file_extension": ".py",
   "mimetype": "text/x-python",
   "name": "python",
   "nbconvert_exporter": "python",
   "pygments_lexer": "ipython3",
   "version": "3.5.2"
  }
 },
 "nbformat": 4,
 "nbformat_minor": 1
}
