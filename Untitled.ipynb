{
 "cells": [
  {
   "cell_type": "code",
   "execution_count": 11,
   "metadata": {},
   "outputs": [
    {
     "name": "stdout",
     "output_type": "stream",
     "text": [
      "3\n",
      "12\n",
      "5\n",
      "7\n",
      "Not Prime\n",
      "Not Prime\n",
      "Not Prime\n"
     ]
    }
   ],
   "source": [
    "import sys\n",
    "\n",
    "n = int(input().strip())\n",
    "num = []\n",
    "for i in range(0,n):\n",
    "    num.append(int(input().strip()))\n",
    "\n",
    "for item in num:\n",
    "    numb = int(item)\n",
    "    for i in range(1,int(numb/2)):\n",
    "        if(numb%i == 0):\n",
    "            print(\"Not Prime\")\n",
    "            break\n",
    "        else:\n",
    "            print(\"Prime\")"
   ]
  },
  {
   "cell_type": "code",
   "execution_count": null,
   "metadata": {
    "collapsed": true
   },
   "outputs": [],
   "source": [
    "4 3\n",
    "-1 -3 4 2\n",
    "5 2\n",
    "0 -1 2 1 4\n"
   ]
  }
 ],
 "metadata": {
  "kernelspec": {
   "display_name": "Python 3",
   "language": "python",
   "name": "python3"
  },
  "language_info": {
   "codemirror_mode": {
    "name": "ipython",
    "version": 3
   },
   "file_extension": ".py",
   "mimetype": "text/x-python",
   "name": "python",
   "nbconvert_exporter": "python",
   "pygments_lexer": "ipython3",
   "version": "3.6.1"
  }
 },
 "nbformat": 4,
 "nbformat_minor": 2
}
