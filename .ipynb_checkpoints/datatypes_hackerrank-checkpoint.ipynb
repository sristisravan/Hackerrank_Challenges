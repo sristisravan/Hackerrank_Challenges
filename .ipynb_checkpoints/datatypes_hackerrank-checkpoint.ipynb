{
 "cells": [
  {
   "cell_type": "code",
   "execution_count": 2,
   "metadata": {},
   "outputs": [
    {
     "name": "stdout",
     "output_type": "stream",
     "text": [
      "12\n",
      "4.0\n",
      "is the best place to learn and practice coding!\n",
      "16\n",
      "8.0\n",
      "HackerRank is the best place to learn and practice coding!\n"
     ]
    }
   ],
   "source": [
    "i = 4\n",
    "d = 4.0\n",
    "s = 'HackerRank '\n",
    "\n",
    "# Declare second integer, double, and String variables.\n",
    "j = 0\n",
    "e = 0.0\n",
    "c = \" \"\n",
    "\n",
    "# Read and save an integer, double, and String to your variables.\n",
    "j = int(input().strip())\n",
    "e = float(input().strip())\n",
    "c = str(input().strip())\n",
    "\n",
    "# Print the sum of both integer variables on a new line.\n",
    "print(i+j)\n",
    "\n",
    "# Print the sum of the double variables on a new line.\n",
    "print(d+e)\n",
    "\n",
    "# Concatenate and print the String variables on a new line\n",
    "# The 's' variable above should be printed first.\n",
    "print(s+c)"
   ]
  }
 ],
 "metadata": {
  "kernelspec": {
   "display_name": "Python 3",
   "language": "python",
   "name": "python3"
  },
  "language_info": {
   "codemirror_mode": {
    "name": "ipython",
    "version": 3
   },
   "file_extension": ".py",
   "mimetype": "text/x-python",
   "name": "python",
   "nbconvert_exporter": "python",
   "pygments_lexer": "ipython3",
   "version": "3.6.1"
  }
 },
 "nbformat": 4,
 "nbformat_minor": 2
}
