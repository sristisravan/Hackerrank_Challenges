{
 "cells": [
  {
   "cell_type": "code",
   "execution_count": null,
   "metadata": {
    "collapsed": true
   },
   "outputs": [],
   "source": [
    "def get_total_cost_of_meal():\n",
    "    # original meal price\n",
    "    meal_cost = float(input())\n",
    "    # tip percentage\n",
    "    tip_percent = int(input())\n",
    "    # tax percentage\n",
    "    tax_percent = int(input())\n",
    "\n",
    "    # Write your calculation code here\n",
    "    tip = meal_cost * tip_percent/100 # calculate tip\n",
    "    tax = meal_cost * tax_percent/100 # caclulate tax\n",
    "\n",
    "    # cast the result of the rounding operation to an int and save it as total_cost \n",
    "    total_cost = int(round(meal_cost+tip+tax,0))\n",
    "    \n",
    "    return str(total_cost)\n",
    "\n",
    "# Print your result\n",
    "print(\"The total meal cost is \" + get_total_cost_of_meal() + \" dollars.\")"
   ]
  }
 ],
 "metadata": {
  "kernelspec": {
   "display_name": "Python 3",
   "language": "python",
   "name": "python3"
  },
  "language_info": {
   "codemirror_mode": {
    "name": "ipython",
    "version": 3
   },
   "file_extension": ".py",
   "mimetype": "text/x-python",
   "name": "python",
   "nbconvert_exporter": "python",
   "pygments_lexer": "ipython3",
   "version": "3.6.1"
  }
 },
 "nbformat": 4,
 "nbformat_minor": 2
}
