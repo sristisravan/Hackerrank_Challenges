{
 "cells": [
  {
   "cell_type": "code",
   "execution_count": 13,
   "metadata": {},
   "outputs": [
    {
     "name": "stdout",
     "output_type": "stream",
     "text": [
      "3\n",
      "sam 19999\n",
      "tom 1234\n",
      "harry 4567\n",
      "edward\n",
      "Not Found\n"
     ]
    }
   ],
   "source": [
    "import sys\n",
    "\n",
    "n = int(input().strip())\n",
    "phonebook = {}\n",
    "for i in range(0,n):\n",
    "    a,b = input().strip().split(' ')\n",
    "    phonebook.update({a:b})\n",
    "while True:\n",
    "    y = str(input().strip())\n",
    "    if y in phonebook.keys():\n",
    "        print(y+\"=\"+str(phonebook[y]))\n",
    "    else:\n",
    "        print(\"Not found\")\n"
   ]
  }
 ],
 "metadata": {
  "kernelspec": {
   "display_name": "Python 3",
   "language": "python",
   "name": "python3"
  },
  "language_info": {
   "codemirror_mode": {
    "name": "ipython",
    "version": 3
   },
   "file_extension": ".py",
   "mimetype": "text/x-python",
   "name": "python",
   "nbconvert_exporter": "python",
   "pygments_lexer": "ipython3",
   "version": "3.6.1"
  }
 },
 "nbformat": 4,
 "nbformat_minor": 2
}
