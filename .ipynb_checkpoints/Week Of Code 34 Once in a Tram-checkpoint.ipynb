{
 "cells": [
  {
   "cell_type": "code",
   "execution_count": 4,
   "metadata": {},
   "outputs": [
    {
     "name": "stdout",
     "output_type": "stream",
     "text": [
      "555555\n",
      "None\n"
     ]
    }
   ],
   "source": [
    "#!/bin/python3\n",
    "\n",
    "import sys\n",
    "\n",
    "def onceInATram(x):\n",
    "    # Complete this function\n",
    "    \n",
    "    integers = [int(i) for i in str(x)]\n",
    "    sum_123 = sum(integers[0:3])\n",
    "    sum_456 = sum(integers[3:6])\n",
    "    while (sum_123 != sum_456):\n",
    "        x = x+1\n",
    "        integers = [int(i) for i in str(x)]\n",
    "        sum_123 = sum(integers[0:3])\n",
    "        sum_456 = sum(integers[3:6])\n",
    "       \n",
    "    return x\n",
    "\n",
    "\n",
    "if __name__ == \"__main__\":\n",
    "    x = int(input().strip())\n",
    "    result = onceInATram(x)\n",
    "    print(result)\n"
   ]
  },
  {
   "cell_type": "code",
   "execution_count": null,
   "metadata": {
    "collapsed": true
   },
   "outputs": [],
   "source": []
  }
 ],
 "metadata": {
  "kernelspec": {
   "display_name": "Python 3",
   "language": "python",
   "name": "python3"
  },
  "language_info": {
   "codemirror_mode": {
    "name": "ipython",
    "version": 3
   },
   "file_extension": ".py",
   "mimetype": "text/x-python",
   "name": "python",
   "nbconvert_exporter": "python",
   "pygments_lexer": "ipython3",
   "version": "3.6.1"
  }
 },
 "nbformat": 4,
 "nbformat_minor": 2
}
