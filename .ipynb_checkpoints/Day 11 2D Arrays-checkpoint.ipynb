{
 "cells": [
  {
   "cell_type": "code",
   "execution_count": 50,
   "metadata": {},
   "outputs": [
    {
     "name": "stdout",
     "output_type": "stream",
     "text": [
      "1 1 1 0 0 0 \n",
      "0 1 0 0 0 0 \n",
      "1 1 1 0 0 0 \n",
      "0 0 2 4 4 0\n",
      "0 0 0 2 0 0\n",
      "0 0 1 2 4 0\n",
      "19\n"
     ]
    }
   ],
   "source": [
    "import sys\n",
    "\n",
    "A = []\n",
    "\n",
    "for i in range(0,6):\n",
    "    temp = input().strip().split(\" \")\n",
    "    A.append([int(x) for x in temp])\n",
    "\n",
    "total_sum = [] \n",
    "for i in range(0,4):\n",
    "    for j in range(0, 4):\n",
    "        temp_sum = [sum(A[i][j:j+3]), A[i+1][j+1], sum(A[i+2][j:j+3])]\n",
    "        total_sum.append(sum(temp_sum))\n",
    "\n",
    "print(max(total_sum))"
   ]
  },
  {
   "cell_type": "code",
   "execution_count": null,
   "metadata": {
    "collapsed": true
   },
   "outputs": [],
   "source": []
  }
 ],
 "metadata": {
  "kernelspec": {
   "display_name": "Python 3",
   "language": "python",
   "name": "python3"
  },
  "language_info": {
   "codemirror_mode": {
    "name": "ipython",
    "version": 3
   },
   "file_extension": ".py",
   "mimetype": "text/x-python",
   "name": "python",
   "nbconvert_exporter": "python",
   "pygments_lexer": "ipython3",
   "version": "3.6.1"
  }
 },
 "nbformat": 4,
 "nbformat_minor": 2
}
