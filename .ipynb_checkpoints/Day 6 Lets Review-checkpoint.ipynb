{
 "cells": [
  {
   "cell_type": "code",
   "execution_count": 5,
   "metadata": {},
   "outputs": [
    {
     "name": "stdout",
     "output_type": "stream",
     "text": [
      "2\n",
      "hacker\n",
      "rank\n",
      "hce akr\n",
      "rn ak\n"
     ]
    }
   ],
   "source": [
    "import sys\n",
    "\n",
    "def split_char(string):\n",
    "    string_char = list(string)\n",
    "    odd_char = []\n",
    "    even_char = []\n",
    "    for c in range(0,len(string_char)):\n",
    "        if c%2 == 0:\n",
    "            even_char.append(string_char[c])\n",
    "        else:\n",
    "            odd_char.append(string_char[c])\n",
    "    return ''.join(even_char), ''.join(odd_char)\n",
    "\n",
    "n = int(input().strip())\n",
    "s = []\n",
    "for i in range(0,n):\n",
    "    s.append(str(input().strip()))\n",
    "\n",
    "for i in range(0,n):\n",
    "    even, odd = split_char(s[i])\n",
    "    print(even, odd)\n"
   ]
  },
  {
   "cell_type": "code",
   "execution_count": null,
   "metadata": {
    "collapsed": true
   },
   "outputs": [],
   "source": []
  }
 ],
 "metadata": {
  "kernelspec": {
   "display_name": "Python 3",
   "language": "python",
   "name": "python3"
  },
  "language_info": {
   "codemirror_mode": {
    "name": "ipython",
    "version": 3
   },
   "file_extension": ".py",
   "mimetype": "text/x-python",
   "name": "python",
   "nbconvert_exporter": "python",
   "pygments_lexer": "ipython3",
   "version": "3.6.1"
  }
 },
 "nbformat": 4,
 "nbformat_minor": 2
}
