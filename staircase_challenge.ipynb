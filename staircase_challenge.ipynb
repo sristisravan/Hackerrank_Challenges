{
 "cells": [
  {
   "cell_type": "code",
   "execution_count": 17,
   "metadata": {},
   "outputs": [
    {
     "name": "stdout",
     "output_type": "stream",
     "text": [
      "6\n",
      "     #\n",
      "    ##\n",
      "   ###\n",
      "  ####\n",
      " #####\n",
      "######\n"
     ]
    }
   ],
   "source": [
    "#!/bin/python3\n",
    "\n",
    "import sys\n",
    "import numpy as np\n",
    "\n",
    "\n",
    "n = int(input().strip())\n",
    "\n",
    "for x in range(1,n+1):\n",
    "    for y in range(1,n-x+1):\n",
    "        sys.stdout.write(\" \")\n",
    "    for z in range(n-x+1,n+1):\n",
    "        sys.stdout.write(\"#\")\n",
    "    sys.stdout.write(\"\\n\")"
   ]
  }
 ],
 "metadata": {
  "kernelspec": {
   "display_name": "Python 3",
   "language": "python",
   "name": "python3"
  },
  "language_info": {
   "codemirror_mode": {
    "name": "ipython",
    "version": 3
   },
   "file_extension": ".py",
   "mimetype": "text/x-python",
   "name": "python",
   "nbconvert_exporter": "python",
   "pygments_lexer": "ipython3",
   "version": "3.6.1"
  }
 },
 "nbformat": 4,
 "nbformat_minor": 2
}
